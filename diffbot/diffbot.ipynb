{
 "cells": [
  {
   "cell_type": "code",
   "execution_count": 15,
   "metadata": {},
   "outputs": [],
   "source": [
    "from client import DiffbotClient,DiffbotCrawl\n",
    "from config import API_TOKEN\n",
    "import requests"
   ]
  },
  {
   "cell_type": "code",
   "execution_count": 13,
   "metadata": {},
   "outputs": [],
   "source": [
    "urls = ['https://www.msn.com/en-us/news/world/trump-cuts-all-direct-assistance-to-honduras-el-salvador-guatemala/ar-BBVpDf5', 'https://www.nbcnews.com/politics/2020-election/biden-doesn-t-recall-alleged-close-encounter-former-nevada-assemblywoman-n989141']"
   ]
  },
  {
   "cell_type": "code",
   "execution_count": 14,
   "metadata": {},
   "outputs": [],
   "source": [
    "diffbot = DiffbotClient()\n",
    "token = \"938ec1c1e025fccdcd9188c7e1a0af8a\"\n",
    "version = 2\n",
    "api = \"article\""
   ]
  },
  {
   "cell_type": "code",
   "execution_count": 18,
   "metadata": {},
   "outputs": [],
   "source": [
    "summaries = []\n",
    "for url in urls:\n",
    "    response = diffbot.request(url, token, api, version=2)\n",
    "    news = response['text']\n",
    "    \n",
    "    r = requests.post(\n",
    "        \"https://api.deepai.org/api/summarization\",\n",
    "        data={'text': news,},\n",
    "        headers={'api-key': '4abc8c08-2f63-4ff5-8431-529d10eef026'}\n",
    "    )\n",
    "    \n",
    "    summary = r.json()['output']\n",
    "    summaries.append(summary)"
   ]
  },
  {
   "cell_type": "code",
   "execution_count": 19,
   "metadata": {},
   "outputs": [
    {
     "data": {
      "text/plain": [
       "['In a stunning about-face, State Department officials said that President Donald Trump is cutting off all direct assistance to the so-called Northern Triangle countries of El Salvador, Honduras and Guatemala.\\n“At the Secretary’s instruction, we are carrying out the President’s direction and ending FY [fiscal year] 2017 and FY 2018 foreign assistance programs for the Northern Triangle,” a State Department spokesperson told ABC News, referring to U.S. Secretary of State Mike Pompeo.\\ntackle the problems facing our shared neighborhood,” Pence said in October when hosting leaders from the Northern Triangle and Mexico at the State Department with Pompeo.\\n',\n",
       " 'Former Vice President Joe Biden said Friday that he had no recollection of an alleged close encounter in 2014 with a state legislator running at the time for lieutenant governor of Nevada.\\nA spokesperson for the former vice president said in a statement Friday that such allegations should be taken seriously but that Biden does not remember the incident.\\n\"But Vice President Biden believes that Ms. Flores has every right to share her own recollection and reflections, and that it is a change for better in our society that she has the opportunity to do so,\" the statement said.\\n']"
      ]
     },
     "execution_count": 19,
     "metadata": {},
     "output_type": "execute_result"
    }
   ],
   "source": [
    "summaries"
   ]
  },
  {
   "cell_type": "code",
   "execution_count": null,
   "metadata": {},
   "outputs": [],
   "source": []
  },
  {
   "cell_type": "code",
   "execution_count": null,
   "metadata": {},
   "outputs": [],
   "source": []
  },
  {
   "cell_type": "markdown",
   "metadata": {},
   "source": [
    "---------------------"
   ]
  },
  {
   "cell_type": "code",
   "execution_count": null,
   "metadata": {},
   "outputs": [],
   "source": []
  },
  {
   "cell_type": "code",
   "execution_count": 3,
   "metadata": {},
   "outputs": [],
   "source": [
    "url = 'https://www.msn.com/en-us/news/world/trump-cuts-all-direct-assistance-to-honduras-el-salvador-guatemala/ar-BBVpDf5'"
   ]
  },
  {
   "cell_type": "code",
   "execution_count": 4,
   "metadata": {},
   "outputs": [],
   "source": [
    "diffbot = DiffbotClient()\n",
    "token = \"938ec1c1e025fccdcd9188c7e1a0af8a\"\n",
    "version = 2\n",
    "api = \"article\"\n",
    "response = diffbot.request(url, token, api, version=2)"
   ]
  },
  {
   "cell_type": "code",
   "execution_count": 8,
   "metadata": {},
   "outputs": [
    {
     "data": {
      "text/plain": [
       "'In a stunning about-face, State Department officials said that President Donald Trump is cutting off all direct assistance to the so-called Northern Triangle countries of El Salvador, Honduras and Guatemala.\\n“At the Secretary’s instruction, we are carrying out the President’s direction and ending FY [fiscal year] 2017 and FY 2018 foreign assistance programs for the Northern Triangle,” a State Department spokesperson told ABC News, referring to U.S. Secretary of State Mike Pompeo. “We will be engaging Congress as part of this process.”\\nThese three countries are the primary source of migrants to the U.S., but for years the U.S. has worked with them to stabilize their political environments and economies and end violence and corruption so that migrants wouldn’t leave in the first place.\\nTrump hinted at the cuts earlier on Friday, telling reporters,”I’ve ended payments to Guatemala, to Honduras, and to El Salvador. No money goes there anymore.”\\nWhile the president has threatened these cuts before, this time the administration is actually following through.\\nTrump said the funds totaled $500 million, but it wasn’t clear Friday if that figure was accurate. The State Department announced in December that the U.S. would mobilize $5.8 billion in public and private american investment to these three countries.\\n“We’re not paying them anymore because they haven’t done a thing for us,” he added.\\nHis senior-most advisers, however, have carried a very different tune, talking very often about the importance of this assistance to stem the flow of illegal immigration.\\nHomeland Security Secretary Kirstjen Nielsen was in Mexico and Honduras this week meeting with their leadership to sign new partnership agreements. Pompeo testified before the House of Representatives on Wednesday about the administration\\'s efforts, saying the president had instructed him and Nielsen to use U.S. funding to \"develop a set of programs that reward effective outcomes, that reward good leadership, that get us to a place where we actually achieve the outcomes.\"\\nIn a speech in Brazil last June, Vice President Mike Pence touted the “significant resources” the administration was putting toward this effort, though much of those resources were allocated under former President Barack Obama’s administration.\\n“The United States of America has never been more committed to strengthening our partnership with the nations in the Northern Triangle to help ... tackle the problems facing our shared neighborhood,” Pence said in October when hosting leaders from the Northern Triangle and Mexico at the State Department with Pompeo.\\nTrump\\'s previous threats to pull the plug, however, had often left U.S. officials scratching their heads and straining to explain why these funds described as key to stemming migration would be cut off -- as punishment for not stemming migration.\\nWhen Pompeo was challenged on the president’s previous threatening tweets on Wednesday, he told Congress, \"I’m not going to comment on my evaluation. You asked me about the U.S. policy, and I’ve done my level-best to articulate it.\"'"
      ]
     },
     "execution_count": 8,
     "metadata": {},
     "output_type": "execute_result"
    }
   ],
   "source": [
    "news = response['text']\n",
    "news"
   ]
  },
  {
   "cell_type": "code",
   "execution_count": 9,
   "metadata": {},
   "outputs": [
    {
     "data": {
      "text/plain": [
       "str"
      ]
     },
     "execution_count": 9,
     "metadata": {},
     "output_type": "execute_result"
    }
   ],
   "source": [
    "type(news)"
   ]
  },
  {
   "cell_type": "code",
   "execution_count": null,
   "metadata": {},
   "outputs": [],
   "source": []
  },
  {
   "cell_type": "code",
   "execution_count": 10,
   "metadata": {},
   "outputs": [],
   "source": [
    "import requests\n",
    "r = requests.post(\n",
    "    \"https://api.deepai.org/api/summarization\",\n",
    "    data={\n",
    "        'text': news,\n",
    "    },\n",
    "    headers={'api-key': '4abc8c08-2f63-4ff5-8431-529d10eef026'}\n",
    ")"
   ]
  },
  {
   "cell_type": "code",
   "execution_count": 11,
   "metadata": {},
   "outputs": [
    {
     "name": "stdout",
     "output_type": "stream",
     "text": [
      "{'output': 'In a stunning about-face, State Department officials said that President Donald Trump is cutting off all direct assistance to the so-called Northern Triangle countries of El Salvador, Honduras and Guatemala.\\n“At the Secretary’s instruction, we are carrying out the President’s direction and ending FY [fiscal year] 2017 and FY 2018 foreign assistance programs for the Northern Triangle,” a State Department spokesperson told ABC News, referring to U.S. Secretary of State Mike Pompeo.\\ntackle the problems facing our shared neighborhood,” Pence said in October when hosting leaders from the Northern Triangle and Mexico at the State Department with Pompeo.\\n'}\n"
     ]
    }
   ],
   "source": [
    "print(r.json())"
   ]
  },
  {
   "cell_type": "code",
   "execution_count": 17,
   "metadata": {},
   "outputs": [
    {
     "data": {
      "text/plain": [
       "'In a stunning about-face, State Department officials said that President Donald Trump is cutting off all direct assistance to the so-called Northern Triangle countries of El Salvador, Honduras and Guatemala.\\n“At the Secretary’s instruction, we are carrying out the President’s direction and ending FY [fiscal year] 2017 and FY 2018 foreign assistance programs for the Northern Triangle,” a State Department spokesperson told ABC News, referring to U.S. Secretary of State Mike Pompeo.\\ntackle the problems facing our shared neighborhood,” Pence said in October when hosting leaders from the Northern Triangle and Mexico at the State Department with Pompeo.\\n'"
      ]
     },
     "execution_count": 17,
     "metadata": {},
     "output_type": "execute_result"
    }
   ],
   "source": [
    "r.json()['output']"
   ]
  },
  {
   "cell_type": "code",
   "execution_count": null,
   "metadata": {},
   "outputs": [],
   "source": []
  }
 ],
 "metadata": {
  "kernelspec": {
   "display_name": "Python 3",
   "language": "python",
   "name": "python3"
  },
  "language_info": {
   "codemirror_mode": {
    "name": "ipython",
    "version": 3
   },
   "file_extension": ".py",
   "mimetype": "text/x-python",
   "name": "python",
   "nbconvert_exporter": "python",
   "pygments_lexer": "ipython3",
   "version": "3.6.7"
  }
 },
 "nbformat": 4,
 "nbformat_minor": 2
}
