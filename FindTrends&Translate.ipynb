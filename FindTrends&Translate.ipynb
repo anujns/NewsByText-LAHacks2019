{
 "cells": [
  {
   "cell_type": "code",
   "execution_count": 300,
   "metadata": {},
   "outputs": [],
   "source": [
    "import numpy as np\n",
    "import pandas as pd\n",
    "import json\n",
    "import requests\n",
    "import operator\n",
    "from google.cloud import translate"
   ]
  },
  {
   "cell_type": "code",
   "execution_count": 279,
   "metadata": {},
   "outputs": [],
   "source": [
    "country_code = 0\n",
    "req = requests.get(\"https://us-central1-vision-migration.cloudfunctions.net/la_hacks_2019?market_code=\"+str(country_code))\n",
    "json1 = json.loads(req.content)"
   ]
  },
  {
   "cell_type": "code",
   "execution_count": 141,
   "metadata": {},
   "outputs": [],
   "source": [
    "buckets = 3\n",
    "traffic_names = {}\n",
    "for i in range(buckets):\n",
    "    report = json1['buckets'][i]['report']\n",
    "    rollups = report['rollups']\n",
    "    for j in range(len(rollups)):\n",
    "        name = rollups[j]['name'] \n",
    "        similarity = rollups[j]['similarity']\n",
    "        if name not in traffic_names:\n",
    "            traffic_names[name] = rollups[j]['traffic']['totalTraffic']\n",
    "        else:\n",
    "            traffic_names[name] += rollups[j]['traffic']['totalTraffic']\n",
    "        \n",
    "sorted_traffic_names = sorted(traffic_names.items(),key=operator.itemgetter(1),reverse=True)   "
   ]
  },
  {
   "cell_type": "code",
   "execution_count": 163,
   "metadata": {},
   "outputs": [],
   "source": [
    "name_mapping = {}\n",
    "for bucket in range(buckets):\n",
    "    report = json1['buckets'][bucket]['report']\n",
    "    rollups = report['rollups']\n",
    "    for topic in rollups:\n",
    "        name = topic['name']\n",
    "        similarity = topic['similarity']\n",
    "        urls_temp = topic['top_articles_on_network']\n",
    "        urls = []\n",
    "        for temp in urls_temp:\n",
    "            urls = list(set(urls))+list(temp.keys())\n",
    "        if name not in name_mapping:\n",
    "            name_mapping[name] = {'urls':urls,'similarity':{}}\n",
    "        else:\n",
    "            for key in similarity:\n",
    "                if key not in name_mapping[name]['similarity']:\n",
    "                    name_mapping[name]['similarity'][key] = [similarity[key]]\n",
    "                else:\n",
    "                    name_mapping[name]['similarity'][key].append(similarity[key])\n",
    "            \n",
    "for key in name_mapping:\n",
    "    similarity_list = name_mapping[key]['similarity']\n",
    "    for neighbour in similarity_list:\n",
    "        similarity_list[neighbour] = np.mean(similarity_list[neighbour])\n",
    "        \n",
    "threshold = 0.2\n",
    "neighbor_set = set()\n",
    "final_top = []\n",
    "\n",
    "for name, no in sorted_traffic_names:\n",
    "    if name not in neighbor_set:\n",
    "        dictx = name_mapping[name]\n",
    "        final_top.append({name:dictx})\n",
    "        \n",
    "        for key, val in dictx['similarity'].items():\n",
    "            if val >= threshold:\n",
    "                neighbor_set.add(key)"
   ]
  },
  {
   "cell_type": "code",
   "execution_count": 3,
   "metadata": {},
   "outputs": [
    {
     "name": "stdout",
     "output_type": "stream",
     "text": [
      "Text: Trump Rape cuts all direct assistance to Honduras, El Salvador, Guatemala\n",
      "Sentiment: -0.5, 0.5\n"
     ]
    }
   ],
   "source": [
    "'''# Instantiates a client\n",
    "client = language.LanguageServiceClient()\n",
    "\n",
    "# The text to analyze\n",
    "text = u'Brother Of Suspected Killer Trolls Trump: Obstruction Charges Can Make World \"Safer\"'\n",
    "document = types.Document(\n",
    "    content=text,\n",
    "    type=enums.Document.Type.PLAIN_TEXT)\n",
    "\n",
    "# Detects the sentiment of the text\n",
    "sentiment = client.analyze_sentiment(document=document).document_sentiment\n",
    "\n",
    "print('Text: {}'.format(text))\n",
    "print('Sentiment: {}, {}'.format(sentiment.score, sentiment.magnitude))'''"
   ]
  },
  {
   "cell_type": "code",
   "execution_count": 185,
   "metadata": {},
   "outputs": [],
   "source": [
    "def translateText(text, target):\n",
    "    translate_client = translate.Client()\n",
    "    translation = translate_client.translate(text,target_language=target)\n",
    "    return translation['translatedText']"
   ]
  },
  {
   "cell_type": "code",
   "execution_count": 196,
   "metadata": {},
   "outputs": [],
   "source": [
    "# The text to translate\n",
    "text = u'In a stunning about-face, State Department officials said that President Donald Trump is cutting off all \\\n",
    "        direct assistance to the so-called Northern Triangle countries of El Salvador, Honduras and Guatemala.\\n“At \\\n",
    "        the Secretary’s instruction, we are carrying out the President’s direction and ending FY [fiscal year] 2017 and \\\n",
    "        FY 2018 foreign assistance programs for the Northern Triangle,” a State Department spokesperson told ABC News, \\\n",
    "        referring to U.S. Secretary of State Mike Pompeo.\\ntackle the problems facing our shared neighborhood,” Pence \\\n",
    "        said in October when hosting leaders from the Northern Triangle and Mexico at the State Department with Pompeo.\\n'\n",
    "target = 'hi'\n",
    "start = time.time()\n",
    "translated_text = translateText(text,target)\n",
    "end = time.time()"
   ]
  },
  {
   "cell_type": "code",
   "execution_count": 198,
   "metadata": {},
   "outputs": [
    {
     "name": "stdout",
     "output_type": "stream",
     "text": [
      "Finished Translating in 1.769 seconds\n",
      "\n",
      "Text in English is:\n",
      "\n",
      "In a stunning about-face, State Department officials said that President Donald Trump is cutting off all         direct assistance to the so-called Northern Triangle countries of El Salvador, Honduras and Guatemala.\n",
      "“At         the Secretary’s instruction, we are carrying out the President’s direction and ending FY [fiscal year] 2017 and         FY 2018 foreign assistance programs for the Northern Triangle,” a State Department spokesperson told ABC News,         referring to U.S. Secretary of State Mike Pompeo.\n",
      "tackle the problems facing our shared neighborhood,” Pence         said in October when hosting leaders from the Northern Triangle and Mexico at the State Department with Pompeo.\n",
      "\n",
      "\n",
      "Text in hi Language is:\n",
      "\n",
      "एक तेजस्वी चेहरे के बारे में, विदेश विभाग के अधिकारियों ने कहा कि राष्ट्रपति डोनाल्ड ट्रम्प अल सल्वाडोर, होंडुरास और ग्वाटेमाला के तथाकथित उत्तरी त्रिभुज देशों के लिए सभी प्रत्यक्ष सहायता काट रहे हैं। विदेश विभाग के प्रवक्ता माइक पोम्पिओ के हवाले से बताया गया है, &#39;&#39; सचिव के निर्देश पर, हम राष्ट्रपति के निर्देश को समाप्त कर रहे हैं और वित्त वर्ष [2017 का वित्तीय वर्ष] 2017 और उत्तरी त्रिभुज के लिए वित्तीय सहायता कार्यक्रम जारी कर रहे हैं। हमारे साझा पड़ोस के सामने आने वाली समस्याओं से निपटने के लिए, &quot;पेंस ने अक्टूबर में पोमियो के साथ स्टेट डिपार्टमेंट में उत्तरी त्रिभुज और मैक्सिको के नेताओं की मेजबानी करते हुए कहा।\n"
     ]
    }
   ],
   "source": [
    "print(\"Finished Translating in %0.3f seconds\\n\" %(end-start))\n",
    "print(\"Text in English is:\\n\")\n",
    "print(text+\"\\n\")\n",
    "print(\"Text in %s Language is:\\n\" %target)\n",
    "print(translated_text)"
   ]
  },
  {
   "cell_type": "code",
   "execution_count": null,
   "metadata": {},
   "outputs": [],
   "source": []
  }
 ],
 "metadata": {
  "kernelspec": {
   "display_name": "Python 3",
   "language": "python",
   "name": "python3"
  },
  "language_info": {
   "codemirror_mode": {
    "name": "ipython",
    "version": 3
   },
   "file_extension": ".py",
   "mimetype": "text/x-python",
   "name": "python",
   "nbconvert_exporter": "python",
   "pygments_lexer": "ipython3",
   "version": "3.6.8"
  }
 },
 "nbformat": 4,
 "nbformat_minor": 2
}
